{
 "cells": [
  {
   "cell_type": "markdown",
   "metadata": {},
   "source": [
    "# Credit Card Fraud"
   ]
  },
  {
   "cell_type": "markdown",
   "metadata": {},
   "source": [
    "Logistic Regression\n",
    "\n",
    "    \n",
    " "
   ]
  },
  {
   "cell_type": "code",
   "execution_count": 4,
   "metadata": {},
   "outputs": [],
   "source": [
    "import numpy as np\n",
    "import sklearn as sk\n",
    "import pandas as pd\n",
    "import matplotlib.pyplot as plt\n",
    "from sklearn import metrics\n",
    "from sklearn.preprocessing import scale\n",
    "import random\n",
    "from imblearn.over_sampling import SMOTE"
   ]
  },
  {
   "cell_type": "markdown",
   "metadata": {
    "collapsed": true
   },
   "source": [
    "This code reads in a CSV file called 'creditcard.csv' and assigns it to the variable 'df'. The 'low_memory' parameter is set to 'False' to ensure that the file is read in correctly even if it contains a large number of columns.\n",
    "Then it will shuffle the dataframe using sample(frac=1) and reset the index to start from 0 using reset_index(drop=True)\n",
    "Finally it will display the first five rows of the dataframe using the .head() method."
   ]
  },
  {
   "cell_type": "code",
   "execution_count": 5,
   "metadata": {
    "scrolled": true
   },
   "outputs": [
    {
     "data": {
      "text/html": [
       "<div>\n",
       "<style scoped>\n",
       "    .dataframe tbody tr th:only-of-type {\n",
       "        vertical-align: middle;\n",
       "    }\n",
       "\n",
       "    .dataframe tbody tr th {\n",
       "        vertical-align: top;\n",
       "    }\n",
       "\n",
       "    .dataframe thead th {\n",
       "        text-align: right;\n",
       "    }\n",
       "</style>\n",
       "<table border=\"1\" class=\"dataframe\">\n",
       "  <thead>\n",
       "    <tr style=\"text-align: right;\">\n",
       "      <th></th>\n",
       "      <th>Time</th>\n",
       "      <th>V1</th>\n",
       "      <th>V2</th>\n",
       "      <th>V3</th>\n",
       "      <th>V4</th>\n",
       "      <th>V5</th>\n",
       "      <th>V6</th>\n",
       "      <th>V7</th>\n",
       "      <th>V8</th>\n",
       "      <th>V9</th>\n",
       "      <th>...</th>\n",
       "      <th>V21</th>\n",
       "      <th>V22</th>\n",
       "      <th>V23</th>\n",
       "      <th>V24</th>\n",
       "      <th>V25</th>\n",
       "      <th>V26</th>\n",
       "      <th>V27</th>\n",
       "      <th>V28</th>\n",
       "      <th>Amount</th>\n",
       "      <th>Class</th>\n",
       "    </tr>\n",
       "  </thead>\n",
       "  <tbody>\n",
       "    <tr>\n",
       "      <th>0</th>\n",
       "      <td>147240.0</td>\n",
       "      <td>-1.099000</td>\n",
       "      <td>1.163033</td>\n",
       "      <td>-0.914269</td>\n",
       "      <td>-2.003475</td>\n",
       "      <td>2.321801</td>\n",
       "      <td>3.646238</td>\n",
       "      <td>-0.380261</td>\n",
       "      <td>1.275829</td>\n",
       "      <td>0.770749</td>\n",
       "      <td>...</td>\n",
       "      <td>-0.264311</td>\n",
       "      <td>-0.760298</td>\n",
       "      <td>0.028374</td>\n",
       "      <td>0.554636</td>\n",
       "      <td>-0.121590</td>\n",
       "      <td>-0.293764</td>\n",
       "      <td>-0.291709</td>\n",
       "      <td>-0.130818</td>\n",
       "      <td>1.54</td>\n",
       "      <td>0</td>\n",
       "    </tr>\n",
       "    <tr>\n",
       "      <th>1</th>\n",
       "      <td>161508.0</td>\n",
       "      <td>-0.252461</td>\n",
       "      <td>0.980735</td>\n",
       "      <td>-2.284579</td>\n",
       "      <td>-2.225591</td>\n",
       "      <td>3.561791</td>\n",
       "      <td>2.736905</td>\n",
       "      <td>1.065422</td>\n",
       "      <td>0.619643</td>\n",
       "      <td>-0.363574</td>\n",
       "      <td>...</td>\n",
       "      <td>0.211881</td>\n",
       "      <td>0.778010</td>\n",
       "      <td>-0.194050</td>\n",
       "      <td>0.750964</td>\n",
       "      <td>-0.220079</td>\n",
       "      <td>0.114045</td>\n",
       "      <td>0.521949</td>\n",
       "      <td>0.321314</td>\n",
       "      <td>1.46</td>\n",
       "      <td>0</td>\n",
       "    </tr>\n",
       "    <tr>\n",
       "      <th>2</th>\n",
       "      <td>132606.0</td>\n",
       "      <td>-0.226797</td>\n",
       "      <td>0.931993</td>\n",
       "      <td>0.411226</td>\n",
       "      <td>1.001406</td>\n",
       "      <td>0.843746</td>\n",
       "      <td>-0.885090</td>\n",
       "      <td>1.429655</td>\n",
       "      <td>-0.339659</td>\n",
       "      <td>-0.664843</td>\n",
       "      <td>...</td>\n",
       "      <td>0.158903</td>\n",
       "      <td>0.821787</td>\n",
       "      <td>-0.206079</td>\n",
       "      <td>0.479544</td>\n",
       "      <td>-0.124792</td>\n",
       "      <td>-0.452670</td>\n",
       "      <td>0.257994</td>\n",
       "      <td>0.017247</td>\n",
       "      <td>22.65</td>\n",
       "      <td>0</td>\n",
       "    </tr>\n",
       "    <tr>\n",
       "      <th>3</th>\n",
       "      <td>156172.0</td>\n",
       "      <td>-0.221055</td>\n",
       "      <td>2.037431</td>\n",
       "      <td>-0.094456</td>\n",
       "      <td>5.154341</td>\n",
       "      <td>0.477424</td>\n",
       "      <td>-0.112493</td>\n",
       "      <td>0.106307</td>\n",
       "      <td>0.557240</td>\n",
       "      <td>-1.953440</td>\n",
       "      <td>...</td>\n",
       "      <td>-0.687058</td>\n",
       "      <td>-2.076952</td>\n",
       "      <td>0.209678</td>\n",
       "      <td>-0.321799</td>\n",
       "      <td>0.240885</td>\n",
       "      <td>0.000254</td>\n",
       "      <td>-0.031164</td>\n",
       "      <td>-0.235185</td>\n",
       "      <td>37.70</td>\n",
       "      <td>0</td>\n",
       "    </tr>\n",
       "    <tr>\n",
       "      <th>4</th>\n",
       "      <td>139420.0</td>\n",
       "      <td>-0.745615</td>\n",
       "      <td>1.008571</td>\n",
       "      <td>2.024826</td>\n",
       "      <td>1.073736</td>\n",
       "      <td>0.217965</td>\n",
       "      <td>0.160338</td>\n",
       "      <td>0.573487</td>\n",
       "      <td>0.158481</td>\n",
       "      <td>-0.004324</td>\n",
       "      <td>...</td>\n",
       "      <td>-0.554023</td>\n",
       "      <td>-1.250630</td>\n",
       "      <td>-0.160856</td>\n",
       "      <td>-0.145272</td>\n",
       "      <td>0.402470</td>\n",
       "      <td>-0.776967</td>\n",
       "      <td>0.360188</td>\n",
       "      <td>0.143821</td>\n",
       "      <td>6.44</td>\n",
       "      <td>0</td>\n",
       "    </tr>\n",
       "  </tbody>\n",
       "</table>\n",
       "<p>5 rows × 31 columns</p>\n",
       "</div>"
      ],
      "text/plain": [
       "       Time        V1        V2        V3        V4        V5        V6  \\\n",
       "0  147240.0 -1.099000  1.163033 -0.914269 -2.003475  2.321801  3.646238   \n",
       "1  161508.0 -0.252461  0.980735 -2.284579 -2.225591  3.561791  2.736905   \n",
       "2  132606.0 -0.226797  0.931993  0.411226  1.001406  0.843746 -0.885090   \n",
       "3  156172.0 -0.221055  2.037431 -0.094456  5.154341  0.477424 -0.112493   \n",
       "4  139420.0 -0.745615  1.008571  2.024826  1.073736  0.217965  0.160338   \n",
       "\n",
       "         V7        V8        V9  ...       V21       V22       V23       V24  \\\n",
       "0 -0.380261  1.275829  0.770749  ... -0.264311 -0.760298  0.028374  0.554636   \n",
       "1  1.065422  0.619643 -0.363574  ...  0.211881  0.778010 -0.194050  0.750964   \n",
       "2  1.429655 -0.339659 -0.664843  ...  0.158903  0.821787 -0.206079  0.479544   \n",
       "3  0.106307  0.557240 -1.953440  ... -0.687058 -2.076952  0.209678 -0.321799   \n",
       "4  0.573487  0.158481 -0.004324  ... -0.554023 -1.250630 -0.160856 -0.145272   \n",
       "\n",
       "        V25       V26       V27       V28  Amount  Class  \n",
       "0 -0.121590 -0.293764 -0.291709 -0.130818    1.54      0  \n",
       "1 -0.220079  0.114045  0.521949  0.321314    1.46      0  \n",
       "2 -0.124792 -0.452670  0.257994  0.017247   22.65      0  \n",
       "3  0.240885  0.000254 -0.031164 -0.235185   37.70      0  \n",
       "4  0.402470 -0.776967  0.360188  0.143821    6.44      0  \n",
       "\n",
       "[5 rows x 31 columns]"
      ]
     },
     "execution_count": 5,
     "metadata": {},
     "output_type": "execute_result"
    }
   ],
   "source": [
    "df = pd.read_csv('creditcard.csv', low_memory=False)\n",
    "df = df.sample(frac=1).reset_index(drop=True)\n",
    "df.head()"
   ]
  },
  {
   "cell_type": "markdown",
   "metadata": {},
   "source": [
    "This code is using the pandas library to create two new dataframes, \"frauds\" and \"non_frauds\", by filtering the original dataframe \"df\" based on the values of the \"Class\" column. The first line creates a dataframe \"frauds\" that includes only the rows from \"df\" where the \"Class\" column is equal to 1. The second line creates a dataframe \"non_frauds\" that includes only the rows from \"df\" where the \"Class\" column is equal to 0. Finally, the code prints out the number of rows in each of the two new dataframes, indicating the number of fraud and non-fraud data points in the original dataframe."
   ]
  },
  {
   "cell_type": "code",
   "execution_count": 6,
   "metadata": {
    "scrolled": true
   },
   "outputs": [
    {
     "name": "stdout",
     "output_type": "stream",
     "text": [
      "This dataset contains 492 fraud and 284315 nonfraudulent data points.\n"
     ]
    }
   ],
   "source": [
    "frauds = df.loc[df['Class'] == 1]\n",
    "non_frauds = df.loc[df['Class'] == 0]\n",
    "print(\"This dataset contains\", len(frauds), \"fraud and\", len(non_frauds), \"nonfraudulent data points.\")"
   ]
  },
  {
   "cell_type": "code",
   "execution_count": 7,
   "metadata": {},
   "outputs": [
    {
     "data": {
      "image/png": "[encoded data removed]",
      "text/plain": [
       "<Figure size 640x480 with 1 Axes>"
      ]
     },
     "metadata": {},
     "output_type": "display_data"
    }
   ],
   "source": [
    "ax = frauds.plot.scatter(x='Amount', y='Class', color='Orange', label='Fraud')\n",
    "non_frauds.plot.scatter(x='Amount', y='Class', color='Blue', label='Normal', ax=ax)\n",
    "plt.show()"
   ]
  },
  {
   "cell_type": "code",
   "execution_count": 8,
   "metadata": {},
   "outputs": [
    {
     "data": {
      "image/png": "[encoded data removed]",
      "text/plain": [
       "<Figure size 640x480 with 1 Axes>"
      ]
     },
     "metadata": {},
     "output_type": "display_data"
    }
   ],
   "source": [
    "bx = frauds.plot.scatter(x='Amount', y='Class', color='Orange', label='Fraud')\n",
    "plt.show()"
   ]
  },
  {
   "cell_type": "code",
   "execution_count": 9,
   "metadata": {},
   "outputs": [
    {
     "data": {
      "image/png": "[encoded data removed]",
      "text/plain": [
       "<Figure size 640x480 with 1 Axes>"
      ]
     },
     "metadata": {},
     "output_type": "display_data"
    }
   ],
   "source": [
    "ax = frauds.plot.scatter(x='V22', y='Class', color='Orange', label='Fraud')\n",
    "non_frauds.plot.scatter(x='V22', y='Class', color='Blue', label='NonFrauds', ax=ax)\n",
    "plt.show()"
   ]
  },
  {
   "cell_type": "markdown",
   "metadata": {},
   "source": [
    "# Logistic Regression"
   ]
  },
  {
   "cell_type": "code",
   "execution_count": 11,
   "metadata": {},
   "outputs": [],
   "source": [
    "from sklearn import datasets, linear_model\n",
    "from sklearn.preprocessing import PolynomialFeatures\n",
    "from sklearn.model_selection import train_test_split"
   ]
  },
  {
   "cell_type": "markdown",
   "metadata": {},
   "source": [
    "First we split df into two sets: X and y. \n",
    "Where X is assigned all columns in the DataFrame except for the last column, and y is assigned the values of the last column, 'Class'.\n",
    "Next, we use the train_test_split function to split X and y into training and testing sets, with a test size of 35%. The sizes of the training and test sets are printed."
   ]
  },
  {
   "cell_type": "code",
   "execution_count": 12,
   "metadata": {},
   "outputs": [
    {
     "name": "stdout",
     "output_type": "stream",
     "text": [
      "x size 284807 and y size: 284807\n",
      "Train size:  185124 | 185124  and test size: 99683 | 99683\n",
      "Total number of frauds: 492\n",
      "Number of frauds on y_test: 162\n",
      "Number of frauds on y_train: 330\n"
     ]
    }
   ],
   "source": [
    "X = df.iloc[:,:-1]\n",
    "y = df['Class']\n",
    "\n",
    "print(\"x size\", len(X),\"and y size:\", len(y))\n",
    "\n",
    "X_train, X_test, y_train, y_test = train_test_split(X, y, test_size=0.35)\n",
    "print(\"Train size: \",len(X_train),\"|\", len(y_train),\" and test size:\", len(X_test),\"|\",len(y_test))\n",
    "print(\"Total number of frauds:\", len(y.loc[df['Class'] == 1]))\n",
    "print(\"Number of frauds on y_test:\", len(y_test.loc[df['Class'] == 1]))\n",
    "print(\"Number of frauds on y_train:\", len(y_train.loc[df['Class'] == 1]))"
   ]
  },
  {
   "cell_type": "markdown",
   "metadata": {},
   "source": [
    "Here we chose to train a Logistic regressor model with a regularization value of c=1e5 cuz it gives higher accuracy (99%) whilst lower or higher give <98%"
   ]
  },
  {
   "cell_type": "code",
   "execution_count": 13,
   "metadata": {
    "scrolled": true
   },
   "outputs": [
    {
     "name": "stdout",
     "output_type": "stream",
     "text": [
      "Score:  0.9988463429070152\n"
     ]
    },
    {
     "name": "stderr",
     "output_type": "stream",
     "text": [
      "C:\\Users\\fulle\\anaconda3\\lib\\site-packages\\sklearn\\linear_model\\_logistic.py:814: ConvergenceWarning: lbfgs failed to converge (status=1):\n",
      "STOP: TOTAL NO. of ITERATIONS REACHED LIMIT.\n",
      "\n",
      "Increase the number of iterations (max_iter) or scale the data as shown in:\n",
      "    https://scikit-learn.org/stable/modules/preprocessing.html\n",
      "Please also refer to the documentation for alternative solver options:\n",
      "    https://scikit-learn.org/stable/modules/linear_model.html#logistic-regression\n",
      "  n_iter_i = _check_optimize_result(\n"
     ]
    }
   ],
   "source": [
    "log = linear_model.LogisticRegression(C=1e6)\n",
    "log.fit(X_train, y_train)\n",
    "print(\"Score: \", log.score(X_test, y_test))"
   ]
  },
  {
   "cell_type": "code",
   "execution_count": 14,
   "metadata": {},
   "outputs": [],
   "source": [
    "y_predicted = np.array(log.predict(X_test))\n",
    "y_right = np.array(y_test)"
   ]
  },
  {
   "cell_type": "code",
   "execution_count": 15,
   "metadata": {
    "scrolled": true
   },
   "outputs": [
    {
     "data": {
      "image/png": "[encoded data removed]",
      "text/plain": [
       "<Figure size 640x480 with 2 Axes>"
      ]
     },
     "metadata": {},
     "output_type": "display_data"
    }
   ],
   "source": [
    "confusion_matrix = metrics.confusion_matrix(y_right, y_predicted)\n",
    "cm_display = metrics.ConfusionMatrixDisplay(confusion_matrix = confusion_matrix, display_labels = [True, False])\n",
    "cm_display.plot()\n",
    "plt.show()"
   ]
  },
  {
   "cell_type": "markdown",
   "metadata": {},
   "source": [
    "# Logistic Regression with SMOTE over-sampling"
   ]
  },
  {
   "cell_type": "code",
   "execution_count": 19,
   "metadata": {},
   "outputs": [
    {
     "name": "stdout",
     "output_type": "stream",
     "text": [
      "Size of training set after over sampling: 369588\n"
     ]
    }
   ],
   "source": [
    "sampler = SMOTE()\n",
    "X_train_sampled, y_train_sampled = sampler.fit_resample(X_train, y_train)\n",
    "\n",
    "print(\"Size of training set after over sampling:\", len(X_train_sampled))"
   ]
  },
  {
   "cell_type": "code",
   "execution_count": 20,
   "metadata": {},
   "outputs": [
    {
     "name": "stdout",
     "output_type": "stream",
     "text": [
      "Score:  0.985855160859926\n"
     ]
    },
    {
     "name": "stderr",
     "output_type": "stream",
     "text": [
      "C:\\Users\\fulle\\anaconda3\\lib\\site-packages\\sklearn\\linear_model\\_logistic.py:814: ConvergenceWarning: lbfgs failed to converge (status=1):\n",
      "STOP: TOTAL NO. of ITERATIONS REACHED LIMIT.\n",
      "\n",
      "Increase the number of iterations (max_iter) or scale the data as shown in:\n",
      "    https://scikit-learn.org/stable/modules/preprocessing.html\n",
      "Please also refer to the documentation for alternative solver options:\n",
      "    https://scikit-learn.org/stable/modules/linear_model.html#logistic-regression\n",
      "  n_iter_i = _check_optimize_result(\n"
     ]
    }
   ],
   "source": [
    "logistic = linear_model.LogisticRegression(C=1e5)\n",
    "logistic.fit(X_train_sampled, y_train_sampled)\n",
    "print(\"Score: \", logistic.score(X_test, y_test))"
   ]
  },
  {
   "cell_type": "code",
   "execution_count": 22,
   "metadata": {},
   "outputs": [
    {
     "name": "stdout",
     "output_type": "stream",
     "text": [
      "Confusion matrix:\n",
      "[[98129  1392]\n",
      " [   18   144]]\n"
     ]
    },
    {
     "data": {
      "image/png": "[encoded data removed]",
      "text/plain": [
       "<Figure size 640x480 with 2 Axes>"
      ]
     },
     "metadata": {},
     "output_type": "display_data"
    }
   ],
   "source": [
    "y_predicted1 = np.array(logistic.predict(X_test))\n",
    "y_right1 = np.array(y_test)\n",
    "confusion_matrix1 = metrics.confusion_matrix(y_right1, y_predicted1)\n",
    "print(\"Confusion matrix:\\n%s\" % confusion_matrix1)\n",
    "cm_display1 = metrics.ConfusionMatrixDisplay(confusion_matrix = confusion_matrix1, display_labels = [True, False])\n",
    "cm_display1.plot()\n",
    "plt.show()"
   ]
  }
 ],
 "metadata": {
  "anaconda-cloud": {},
  "kernelspec": {
   "display_name": "Python 3 (ipykernel)",
   "language": "python",
   "name": "python3"
  },
  "language_info": {
   "codemirror_mode": {
    "name": "ipython",
    "version": 3
   },
   "file_extension": ".py",
   "mimetype": "text/x-python",
   "name": "python",
   "nbconvert_exporter": "python",
   "pygments_lexer": "ipython3",
   "version": "3.9.13"
  }
 },
 "nbformat": 4,
 "nbformat_minor": 1
}
